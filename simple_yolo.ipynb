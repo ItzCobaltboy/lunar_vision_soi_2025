{
 "cells": [
  {
   "cell_type": "code",
   "execution_count": 1,
   "id": "2c939796-8a48-44e1-9d60-e76439ffda5f",
   "metadata": {},
   "outputs": [
    {
     "name": "stdout",
     "output_type": "stream",
     "text": [
      "Dataset configuration complete!\n"
     ]
    }
   ],
   "source": [
    "# Set up dataset path\n",
    "import os\n",
    "\n",
    "# Path to your dataset\n",
    "DATASET_PATH = \"/home/ubuntu/yolov8_dataset\"\n",
    "\n",
    "# Create data.yaml if not already created\n",
    "yaml_content = f\"\"\"\n",
    "train: {DATASET_PATH}/train/images\n",
    "val: {DATASET_PATH}/valid/images\n",
    "\n",
    "nc: 1\n",
    "names: ['crater']\n",
    "\"\"\"\n",
    "\n",
    "with open('/home/ubuntu/data.yaml', 'w') as f:\n",
    "    f.write(yaml_content)\n",
    "\n",
    "print(\"Dataset configuration complete!\")\n"
   ]
  },
  {
   "cell_type": "code",
   "execution_count": 2,
   "id": "457a86b2-7a31-4702-9ff2-1c86be55cfa2",
   "metadata": {},
   "outputs": [],
   "source": [
    "from ultralytics import YOLO\n",
    "import torch"
   ]
  },
  {
   "cell_type": "code",
   "execution_count": null,
   "id": "a0cc1c7e-8934-4fbf-9b03-c023904107e3",
   "metadata": {},
   "outputs": [
    {
     "name": "stdout",
     "output_type": "stream",
     "text": [
      "GPU available: True\n",
      "Number of GPUs: 1\n",
      "GPU names: ['NVIDIA A100-SXM4-80GB']\n",
      "Ultralytics 8.3.152 🚀 Python-3.10.12 torch-2.7.1+cu126 CUDA:0 (NVIDIA A100-SXM4-80GB, 81153MiB)\n",
      "\u001b[34m\u001b[1mengine/trainer: \u001b[0magnostic_nms=False, amp=True, augment=False, auto_augment=randaugment, batch=64, bgr=0.0, box=7.5, cache=ram, cfg=None, classes=None, close_mosaic=5, cls=0.5, conf=None, copy_paste=0.0, copy_paste_mode=flip, cos_lr=True, cutmix=0.0, data=/home/ubuntu/data.yaml, degrees=0.0, deterministic=True, device=0, dfl=1.5, dnn=False, dropout=0.0, dynamic=False, embed=None, epochs=100, erasing=0.4, exist_ok=True, fliplr=0.3, flipud=0.0, format=torchscript, fraction=1.0, freeze=None, half=False, hsv_h=0.01, hsv_s=0.5, hsv_v=0.5, imgsz=640, int8=False, iou=0.7, keras=False, kobj=1.0, line_width=None, lr0=0.0003, lrf=0.01, mask_ratio=4, max_det=300, mixup=0.1, mode=train, model=yolov8m.pt, momentum=0.937, mosaic=0.8, multi_scale=False, name=a100_optimized_run, nbs=64, nms=False, opset=None, optimize=False, optimizer=AdamW, overlap_mask=False, patience=50, perspective=0.0, plots=True, pose=12.0, pretrained=True, profile=False, project=lunar_craters, rect=False, resume=False, retina_masks=False, save=True, save_conf=False, save_crop=False, save_dir=lunar_craters/a100_optimized_run, save_frames=False, save_json=False, save_period=-1, save_txt=False, scale=0.5, seed=0, shear=0.0, show=False, show_boxes=True, show_conf=True, show_labels=True, simplify=True, single_cls=True, source=None, split=val, stream_buffer=False, task=detect, time=None, tracker=botsort.yaml, translate=0.1, val=True, verbose=True, vid_stride=1, visualize=False, warmup_bias_lr=0.1, warmup_epochs=3.0, warmup_momentum=0.8, weight_decay=0.0005, workers=6, workspace=None\n",
      "Overriding class names with single class.\n",
      "Overriding model.yaml nc=80 with nc=1\n",
      "\n",
      "                   from  n    params  module                                       arguments                     \n",
      "  0                  -1  1      1392  ultralytics.nn.modules.conv.Conv             [3, 48, 3, 2]                 \n",
      "  1                  -1  1     41664  ultralytics.nn.modules.conv.Conv             [48, 96, 3, 2]                \n",
      "  2                  -1  2    111360  ultralytics.nn.modules.block.C2f             [96, 96, 2, True]             \n",
      "  3                  -1  1    166272  ultralytics.nn.modules.conv.Conv             [96, 192, 3, 2]               \n",
      "  4                  -1  4    813312  ultralytics.nn.modules.block.C2f             [192, 192, 4, True]           \n",
      "  5                  -1  1    664320  ultralytics.nn.modules.conv.Conv             [192, 384, 3, 2]              \n",
      "  6                  -1  4   3248640  ultralytics.nn.modules.block.C2f             [384, 384, 4, True]           \n",
      "  7                  -1  1   1991808  ultralytics.nn.modules.conv.Conv             [384, 576, 3, 2]              \n",
      "  8                  -1  2   3985920  ultralytics.nn.modules.block.C2f             [576, 576, 2, True]           \n",
      "  9                  -1  1    831168  ultralytics.nn.modules.block.SPPF            [576, 576, 5]                 \n",
      " 10                  -1  1         0  torch.nn.modules.upsampling.Upsample         [None, 2, 'nearest']          \n",
      " 11             [-1, 6]  1         0  ultralytics.nn.modules.conv.Concat           [1]                           \n",
      " 12                  -1  2   1993728  ultralytics.nn.modules.block.C2f             [960, 384, 2]                 \n",
      " 13                  -1  1         0  torch.nn.modules.upsampling.Upsample         [None, 2, 'nearest']          \n",
      " 14             [-1, 4]  1         0  ultralytics.nn.modules.conv.Concat           [1]                           \n",
      " 15                  -1  2    517632  ultralytics.nn.modules.block.C2f             [576, 192, 2]                 \n",
      " 16                  -1  1    332160  ultralytics.nn.modules.conv.Conv             [192, 192, 3, 2]              \n",
      " 17            [-1, 12]  1         0  ultralytics.nn.modules.conv.Concat           [1]                           \n",
      " 18                  -1  2   1846272  ultralytics.nn.modules.block.C2f             [576, 384, 2]                 \n",
      " 19                  -1  1   1327872  ultralytics.nn.modules.conv.Conv             [384, 384, 3, 2]              \n",
      " 20             [-1, 9]  1         0  ultralytics.nn.modules.conv.Concat           [1]                           \n",
      " 21                  -1  2   4207104  ultralytics.nn.modules.block.C2f             [960, 576, 2]                 \n",
      " 22        [15, 18, 21]  1   3776275  ultralytics.nn.modules.head.Detect           [1, [192, 384, 576]]          \n",
      "Model summary: 169 layers, 25,856,899 parameters, 25,856,883 gradients, 79.1 GFLOPs\n",
      "\n",
      "Transferred 469/475 items from pretrained weights\n",
      "Freezing layer 'model.22.dfl.conv.weight'\n",
      "\u001b[34m\u001b[1mAMP: \u001b[0mrunning Automatic Mixed Precision (AMP) checks...\n",
      "\u001b[34m\u001b[1mAMP: \u001b[0mchecks passed ✅\n",
      "\u001b[34m\u001b[1mtrain: \u001b[0mFast image access ✅ (ping: 0.0±0.0 ms, read: 87.4±54.9 MB/s, size: 74.6 KB)\n"
     ]
    },
    {
     "name": "stderr",
     "output_type": "stream",
     "text": [
      "\u001b[34m\u001b[1mtrain: \u001b[0mScanning /home/ubuntu/yolov8_dataset/train/labels.cache... 13955 images, 122 backgrounds, 0 corrupt: 100%|██████████| 13955/13955 [00:00<?, ?it/s]\u001b[0m"
     ]
    },
    {
     "name": "stdout",
     "output_type": "stream",
     "text": [
      "\u001b[34m\u001b[1mtrain: \u001b[0m/home/ubuntu/yolov8_dataset/train/images/Lunar_A-17-39_jpg.rf.bcc50cf4104dc65891c090e827f4fda8.jpg: 1 duplicate labels removed\n",
      "\u001b[34m\u001b[1mtrain: \u001b[0m/home/ubuntu/yolov8_dataset/train/images/Lunar_C-7-3_jpg.rf.351a0cea48fef91ea3da9a652f3a2345.jpg: 1 duplicate labels removed\n"
     ]
    },
    {
     "name": "stderr",
     "output_type": "stream",
     "text": [
      "\n"
     ]
    },
    {
     "name": "stdout",
     "output_type": "stream",
     "text": [
      "WARNING ⚠️ cache='ram' may produce non-deterministic training results. Consider cache='disk' as a deterministic alternative if your disk space allows.\n"
     ]
    },
    {
     "name": "stderr",
     "output_type": "stream",
     "text": [
      "\u001b[34m\u001b[1mtrain: \u001b[0mCaching images (16.0GB RAM): 100%|██████████| 13955/13955 [00:17<00:00, 794.67it/s]\u001b[0m \n"
     ]
    },
    {
     "name": "stdout",
     "output_type": "stream",
     "text": [
      "\u001b[34m\u001b[1mval: \u001b[0mFast image access ✅ (ping: 0.0±0.0 ms, read: 106.8±110.3 MB/s, size: 74.3 KB)\n"
     ]
    },
    {
     "name": "stderr",
     "output_type": "stream",
     "text": [
      "\u001b[34m\u001b[1mval: \u001b[0mScanning /home/ubuntu/yolov8_dataset/valid/labels.cache... 3712 images, 48 backgrounds, 0 corrupt: 100%|██████████| 3740/3740 [00:00<?, ?it/s]\u001b[0m"
     ]
    },
    {
     "name": "stdout",
     "output_type": "stream",
     "text": [
      "\u001b[34m\u001b[1mval: \u001b[0m/home/ubuntu/yolov8_dataset/valid/images/Lunar_A-13-15_jpg.rf.38ef2ac1d37ccf9f2f4846ee6acbc964.jpg: 1 duplicate labels removed\n",
      "\u001b[34m\u001b[1mval: \u001b[0m/home/ubuntu/yolov8_dataset/valid/images/Lunar_A-17-15_jpg.rf.55d8b7aab578aee27a3bd6c92a9f6f0f.jpg: 1 duplicate labels removed\n",
      "\u001b[34m\u001b[1mval: \u001b[0m/home/ubuntu/yolov8_dataset/valid/images/Lunar_A-17-32_jpg.rf.b0a6c910ec04ef3997cc513f4c020d83.jpg: 1 duplicate labels removed\n",
      "\u001b[34m\u001b[1mval: \u001b[0m/home/ubuntu/yolov8_dataset/valid/images/Lunar_A-6-21_jpg.rf.6a66c495e5afc19b3ea5d61471ee1757.jpg: 1 duplicate labels removed\n",
      "\u001b[34m\u001b[1mval: \u001b[0m/home/ubuntu/yolov8_dataset/valid/images/Lunar_A-6-30_jpg.rf.0660e8cdeaf99f3d42a1c85dc66982b6.jpg: 1 duplicate labels removed\n",
      "\u001b[34m\u001b[1mval: \u001b[0m/home/ubuntu/yolov8_dataset/valid/images/Lunar_A-9-23_jpg.rf.da25911b4cee3b7e28fec6d16ea4eac0.jpg: 1 duplicate labels removed\n",
      "\u001b[34m\u001b[1mval: \u001b[0m/home/ubuntu/yolov8_dataset/valid/images/Lunar_B-11-42_jpg.rf.27a2816b311b4e1355bb85abeb7c2777.jpg: 1 duplicate labels removed\n",
      "\u001b[34m\u001b[1mval: \u001b[0m/home/ubuntu/yolov8_dataset/valid/images/Lunar_B-11-50_jpg.rf.9c541e0483b320ba5e9143b7c3f59c5b.jpg: 1 duplicate labels removed\n",
      "\u001b[34m\u001b[1mval: \u001b[0m/home/ubuntu/yolov8_dataset/valid/images/Lunar_B-18-50_jpg.rf.7d81ae3f60d136646844e413aa8c9da9.jpg: 1 duplicate labels removed\n",
      "\u001b[34m\u001b[1mval: \u001b[0m/home/ubuntu/yolov8_dataset/valid/images/Lunar_B-19-63_jpg.rf.4e0fe75d7fc7950e420d2fe67bb07efd.jpg: 1 duplicate labels removed\n",
      "\u001b[34m\u001b[1mval: \u001b[0m/home/ubuntu/yolov8_dataset/valid/images/Lunar_B-19-7_jpg.rf.cafca406e2702945bf09ee790fcf62a7.jpg: 1 duplicate labels removed\n",
      "\u001b[34m\u001b[1mval: \u001b[0m/home/ubuntu/yolov8_dataset/valid/images/Lunar_B-22-47_jpg.rf.48c95c7487e8a856d2b3dd514cdd831b.jpg: 1 duplicate labels removed\n",
      "\u001b[34m\u001b[1mval: \u001b[0m/home/ubuntu/yolov8_dataset/valid/images/Lunar_B-23-22_jpg.rf.9fb6baafeb75684eb4211d424127bda3.jpg: 1 duplicate labels removed\n",
      "\u001b[34m\u001b[1mval: \u001b[0m/home/ubuntu/yolov8_dataset/valid/images/Lunar_B-24-49_jpg.rf.7188295d92d6c8837c51e07ebfc65c13.jpg: 1 duplicate labels removed\n",
      "\u001b[34m\u001b[1mval: \u001b[0m/home/ubuntu/yolov8_dataset/valid/images/Lunar_B-31-5_jpg.rf.899198a8cf93dea05bd0385a0c384417.jpg: 1 duplicate labels removed\n",
      "\u001b[34m\u001b[1mval: \u001b[0m/home/ubuntu/yolov8_dataset/valid/images/Lunar_C-32-20_jpg.rf.2e6d716fedcda49cf61026b48b775db5.jpg: 1 duplicate labels removed\n"
     ]
    },
    {
     "name": "stderr",
     "output_type": "stream",
     "text": [
      "\n"
     ]
    },
    {
     "name": "stdout",
     "output_type": "stream",
     "text": [
      "WARNING ⚠️ cache='ram' may produce non-deterministic training results. Consider cache='disk' as a deterministic alternative if your disk space allows.\n"
     ]
    },
    {
     "name": "stderr",
     "output_type": "stream",
     "text": [
      "\u001b[34m\u001b[1mval: \u001b[0mCaching images (4.3GB RAM): 100%|██████████| 3740/3740 [00:06<00:00, 534.39it/s]\u001b[0m \n"
     ]
    },
    {
     "name": "stdout",
     "output_type": "stream",
     "text": [
      "Plotting labels to lunar_craters/a100_optimized_run/labels.jpg... \n",
      "\u001b[34m\u001b[1moptimizer:\u001b[0m AdamW(lr=0.0003, momentum=0.937) with parameter groups 77 weight(decay=0.0), 84 weight(decay=0.0005), 83 bias(decay=0.0)\n",
      "Image sizes 640 train, 640 val\n",
      "Using 6 dataloader workers\n",
      "Logging results to \u001b[1mlunar_craters/a100_optimized_run\u001b[0m\n",
      "Starting training for 100 epochs...\n",
      "\n",
      "      Epoch    GPU_mem   box_loss   cls_loss   dfl_loss  Instances       Size\n"
     ]
    },
    {
     "name": "stderr",
     "output_type": "stream",
     "text": [
      "      1/100      71.1G        nan        nan        nan        391        640: 100%|██████████| 219/219 [06:41<00:00,  1.83s/it]\n",
      "                 Class     Images  Instances      Box(P          R      mAP50  mAP50-95): 100%|██████████| 30/30 [02:05<00:00,  4.19s/it]"
     ]
    },
    {
     "name": "stdout",
     "output_type": "stream",
     "text": [
      "                   all       3740     249688          0          0          0          0\n"
     ]
    },
    {
     "name": "stderr",
     "output_type": "stream",
     "text": [
      "\n"
     ]
    },
    {
     "name": "stdout",
     "output_type": "stream",
     "text": [
      "\n",
      "      Epoch    GPU_mem   box_loss   cls_loss   dfl_loss  Instances       Size\n"
     ]
    },
    {
     "name": "stderr",
     "output_type": "stream",
     "text": [
      "      2/100      41.4G        nan        nan        nan        226        640: 100%|██████████| 219/219 [06:14<00:00,  1.71s/it]\n",
      "                 Class     Images  Instances      Box(P          R      mAP50  mAP50-95): 100%|██████████| 30/30 [01:48<00:00,  3.61s/it]"
     ]
    },
    {
     "name": "stdout",
     "output_type": "stream",
     "text": [
      "                   all       3740     249688          0          0          0          0\n"
     ]
    },
    {
     "name": "stderr",
     "output_type": "stream",
     "text": [
      "\n"
     ]
    },
    {
     "name": "stdout",
     "output_type": "stream",
     "text": [
      "\n",
      "      Epoch    GPU_mem   box_loss   cls_loss   dfl_loss  Instances       Size\n"
     ]
    },
    {
     "name": "stderr",
     "output_type": "stream",
     "text": [
      "      3/100      41.2G        nan        nan        nan        824        640: 100%|██████████| 219/219 [06:31<00:00,  1.79s/it]\n",
      "                 Class     Images  Instances      Box(P          R      mAP50  mAP50-95): 100%|██████████| 30/30 [01:44<00:00,  3.47s/it]"
     ]
    },
    {
     "name": "stdout",
     "output_type": "stream",
     "text": [
      "                   all       3740     249688          0          0          0          0\n"
     ]
    },
    {
     "name": "stderr",
     "output_type": "stream",
     "text": [
      "\n"
     ]
    },
    {
     "name": "stdout",
     "output_type": "stream",
     "text": [
      "\n",
      "      Epoch    GPU_mem   box_loss   cls_loss   dfl_loss  Instances       Size\n"
     ]
    },
    {
     "name": "stderr",
     "output_type": "stream",
     "text": [
      "      4/100      35.1G        nan        nan        nan        173        640: 100%|██████████| 219/219 [05:58<00:00,  1.63s/it]\n",
      "                 Class     Images  Instances      Box(P          R      mAP50  mAP50-95): 100%|██████████| 30/30 [01:40<00:00,  3.34s/it]"
     ]
    },
    {
     "name": "stdout",
     "output_type": "stream",
     "text": [
      "                   all       3740     249688          0          0          0          0\n"
     ]
    },
    {
     "name": "stderr",
     "output_type": "stream",
     "text": [
      "\n"
     ]
    },
    {
     "name": "stdout",
     "output_type": "stream",
     "text": [
      "\n",
      "      Epoch    GPU_mem   box_loss   cls_loss   dfl_loss  Instances       Size\n"
     ]
    },
    {
     "name": "stderr",
     "output_type": "stream",
     "text": [
      "      5/100      41.5G        nan        nan        nan        487        640: 100%|██████████| 219/219 [05:50<00:00,  1.60s/it]\n",
      "                 Class     Images  Instances      Box(P          R      mAP50  mAP50-95): 100%|██████████| 30/30 [01:40<00:00,  3.35s/it]"
     ]
    },
    {
     "name": "stdout",
     "output_type": "stream",
     "text": [
      "                   all       3740     249688          0          0          0          0\n"
     ]
    },
    {
     "name": "stderr",
     "output_type": "stream",
     "text": [
      "\n"
     ]
    },
    {
     "name": "stdout",
     "output_type": "stream",
     "text": [
      "\n",
      "      Epoch    GPU_mem   box_loss   cls_loss   dfl_loss  Instances       Size\n"
     ]
    },
    {
     "name": "stderr",
     "output_type": "stream",
     "text": [
      "      6/100      41.4G        nan        nan        nan        384        640: 100%|██████████| 219/219 [05:49<00:00,  1.59s/it]\n",
      "                 Class     Images  Instances      Box(P          R      mAP50  mAP50-95): 100%|██████████| 30/30 [01:41<00:00,  3.38s/it]"
     ]
    },
    {
     "name": "stdout",
     "output_type": "stream",
     "text": [
      "                   all       3740     249688          0          0          0          0\n"
     ]
    },
    {
     "name": "stderr",
     "output_type": "stream",
     "text": [
      "\n"
     ]
    },
    {
     "name": "stdout",
     "output_type": "stream",
     "text": [
      "\n",
      "      Epoch    GPU_mem   box_loss   cls_loss   dfl_loss  Instances       Size\n"
     ]
    },
    {
     "name": "stderr",
     "output_type": "stream",
     "text": [
      "      7/100      42.1G        nan        nan        nan        140        640: 100%|██████████| 219/219 [06:03<00:00,  1.66s/it]\n",
      "                 Class     Images  Instances      Box(P          R      mAP50  mAP50-95): 100%|██████████| 30/30 [01:40<00:00,  3.36s/it]"
     ]
    },
    {
     "name": "stdout",
     "output_type": "stream",
     "text": [
      "                   all       3740     249688          0          0          0          0\n"
     ]
    },
    {
     "name": "stderr",
     "output_type": "stream",
     "text": [
      "\n"
     ]
    },
    {
     "name": "stdout",
     "output_type": "stream",
     "text": [
      "\n",
      "      Epoch    GPU_mem   box_loss   cls_loss   dfl_loss  Instances       Size\n"
     ]
    },
    {
     "name": "stderr",
     "output_type": "stream",
     "text": [
      "      8/100      35.1G        nan        nan        nan        262        640: 100%|██████████| 219/219 [05:56<00:00,  1.63s/it]\n",
      "                 Class     Images  Instances      Box(P          R      mAP50  mAP50-95): 100%|██████████| 30/30 [01:36<00:00,  3.22s/it]"
     ]
    },
    {
     "name": "stdout",
     "output_type": "stream",
     "text": [
      "                   all       3740     249688          0          0          0          0\n"
     ]
    },
    {
     "name": "stderr",
     "output_type": "stream",
     "text": [
      "\n"
     ]
    },
    {
     "name": "stdout",
     "output_type": "stream",
     "text": [
      "\n",
      "      Epoch    GPU_mem   box_loss   cls_loss   dfl_loss  Instances       Size\n"
     ]
    },
    {
     "name": "stderr",
     "output_type": "stream",
     "text": [
      "      9/100      35.1G        nan        nan        nan       6568        640:   9%|▊         | 19/219 [00:30<05:19,  1.60s/it]"
     ]
    }
   ],
   "source": [
    "from ultralytics import YOLO\n",
    "import torch\n",
    "\n",
    "# Verify GPU availability\n",
    "print(f\"GPU available: {torch.cuda.is_available()}\")\n",
    "print(f\"Number of GPUs: {torch.cuda.device_count()}\")\n",
    "print(f\"GPU names: {[torch.cuda.get_device_name(i) for i in range(torch.cuda.device_count())]}\")\n",
    "\n",
    "# Load a YOLOv8 model\n",
    "model = YOLO('yolov8m.pt')  # Load medium-sized model (you can also try 'yolov8l.pt' or 'yolov8x.pt' for larger models)\n",
    "\n",
    "# Set training parameters\n",
    "results = model.train(\n",
    "    data='/home/ubuntu/data.yaml',\n",
    "    imgsz=640,\n",
    "    epochs=100,\n",
    "    batch=64,  # Max batch size for A100XL (~80GB VRAM)\n",
    "    device=0,\n",
    "    workers=6,  # Optimal for 4 vCPUs (workers = vCPUs * 1.5)\n",
    "    patience=50,\n",
    "    project='lunar_craters',\n",
    "    name='a100_optimized_run',\n",
    "    exist_ok=True,\n",
    "    pretrained=True,\n",
    "    amp=True,  # Critical for A100 performance\n",
    "    optimizer='AdamW',  # Better for large batches than default SGD\n",
    "    lr0=3e-4,  # Adjust learning rate for larger batch\n",
    "    cos_lr=True,  # Cosine learning rate scheduler\n",
    "    overlap_mask=False,  # Reduce CPU overhead\n",
    "    cache='ram',  # Use 64GB RAM for caching\n",
    "    single_cls=True,  # If lunar craters are single class\n",
    "    hsv_h=0.01,  # Reduce augmentation intensity\n",
    "    hsv_s=0.5,\n",
    "    hsv_v=0.5,\n",
    "    fliplr=0.3,  # Simplify augmentations\n",
    "    mosaic=0.8,  # Partial mosaic to balance speed/accuracy\n",
    "    mixup=0.1,  # Light regularization\n",
    "    close_mosaic=5  # Earlier mosaic cutoff\n",
    ")\n",
    "\n",
    "\n",
    "# Display training results summary\n",
    "print(results)\n"
   ]
  },
  {
   "cell_type": "code",
   "execution_count": null,
   "id": "d614b054-e42e-45c3-9587-0a5579fedb93",
   "metadata": {},
   "outputs": [],
   "source": [
    "# In a new cell\n",
    "%load_ext tensorboard\n",
    "%tensorboard --logdir lunar_craters\n"
   ]
  },
  {
   "cell_type": "code",
   "execution_count": null,
   "id": "0d6408b7-fb45-4c4b-afc8-11155cddc030",
   "metadata": {},
   "outputs": [],
   "source": [
    "!cp lunar_craters/a100_optimized_run/weights/best.pt ~/best_crater_model.pt\n",
    "print(\"Best model saved to ~/best_crater_model.pt\")"
   ]
  },
  {
   "cell_type": "code",
   "execution_count": null,
   "id": "41dbc768-9620-4ae3-b94e-674603fd8541",
   "metadata": {},
   "outputs": [],
   "source": []
  }
 ],
 "metadata": {
  "kernelspec": {
   "display_name": "Python 3 (ipykernel)",
   "language": "python",
   "name": "python3"
  },
  "language_info": {
   "codemirror_mode": {
    "name": "ipython",
    "version": 3
   },
   "file_extension": ".py",
   "mimetype": "text/x-python",
   "name": "python",
   "nbconvert_exporter": "python",
   "pygments_lexer": "ipython3",
   "version": "3.10.12"
  }
 },
 "nbformat": 4,
 "nbformat_minor": 5
}
